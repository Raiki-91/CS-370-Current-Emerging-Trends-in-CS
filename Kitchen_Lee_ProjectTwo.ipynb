{
 "cells": [
  {
   "cell_type": "markdown",
   "metadata": {},
   "source": [
    "# Treasure Hunt Game Notebook\n",
    "\n",
    "## Read and Review Your Starter Code\n",
    "The theme of this project is a popular treasure hunt game in which the player needs to find the treasure before the pirate does. While you will not be developing the entire game, you will write the part of the game that represents the intelligent agent, which is a pirate in this case. The pirate will try to find the optimal path to the treasure using deep Q-learning. \n",
    "\n",
    "You have been provided with two Python classes and this notebook to help you with this assignment. The first class, TreasureMaze.py, represents the environment, which includes a maze object defined as a matrix. The second class, GameExperience.py, stores the episodes – that is, all the states that come in between the initial state and the terminal state. This is later used by the agent for learning by experience, called \"exploration\". This notebook shows how to play a game. Your task is to complete the deep Q-learning implementation for which a skeleton implementation has been provided. The code blocks you will need to complete has #TODO as a header.\n",
    "\n",
    "First, read and review the next few code and instruction blocks to understand the code that you have been given."
   ]
  },
  {
   "cell_type": "code",
   "execution_count": 12,
   "metadata": {},
   "outputs": [],
   "source": [
    "from __future__ import print_function\n",
    "import os, sys, time, datetime, json, random\n",
    "import numpy as np\n",
    "from collections import deque\n",
    "from keras.models import Sequential\n",
    "from keras.layers.core import Dense, Activation\n",
    "from keras.optimizers import SGD , Adam, RMSprop\n",
    "from keras.layers.advanced_activations import PReLU\n",
    "import matplotlib.pyplot as plt\n",
    "from TreasureMaze import TreasureMaze\n",
    "from GameExperience import GameExperience\n",
    "import tensorflow as tf \n",
    "%matplotlib inline"
   ]
  },
  {
   "cell_type": "markdown",
   "metadata": {},
   "source": [
    "The following code block contains an 8x8 matrix that will be used as a maze object:"
   ]
  },
  {
   "cell_type": "code",
   "execution_count": 13,
   "metadata": {},
   "outputs": [],
   "source": [
    "maze = np.array([\n",
    "    [ 1.,  0.,  1.,  1.,  1.,  1.,  1.,  1.],\n",
    "    [ 1.,  0.,  1.,  1.,  1.,  0.,  1.,  1.],\n",
    "    [ 1.,  1.,  1.,  1.,  0.,  1.,  0.,  1.],\n",
    "    [ 1.,  1.,  1.,  0.,  1.,  1.,  1.,  1.],\n",
    "    [ 1.,  1.,  0.,  1.,  1.,  1.,  1.,  1.],\n",
    "    [ 1.,  1.,  1.,  0.,  1.,  0.,  0.,  0.],\n",
    "    [ 1.,  1.,  1.,  0.,  1.,  1.,  1.,  1.],\n",
    "    [ 1.,  1.,  1.,  1.,  0.,  1.,  1.,  1.]\n",
    "])"
   ]
  },
  {
   "cell_type": "markdown",
   "metadata": {},
   "source": [
    "This helper function allows a visual representation of the maze object:"
   ]
  },
  {
   "cell_type": "code",
   "execution_count": 14,
   "metadata": {},
   "outputs": [],
   "source": [
    "def show(qmaze):\n",
    "    plt.grid('on')\n",
    "    nrows, ncols = qmaze.maze.shape\n",
    "    ax = plt.gca()\n",
    "    ax.set_xticks(np.arange(0.5, nrows, 1))\n",
    "    ax.set_yticks(np.arange(0.5, ncols, 1))\n",
    "    ax.set_xticklabels([])\n",
    "    ax.set_yticklabels([])\n",
    "    canvas = np.copy(qmaze.maze)\n",
    "    for row,col in qmaze.visited:\n",
    "        canvas[row,col] = 0.6\n",
    "    pirate_row, pirate_col, _ = qmaze.state\n",
    "    canvas[pirate_row, pirate_col] = 0.3   # pirate cell\n",
    "    canvas[nrows-1, ncols-1] = 0.9 # treasure cell\n",
    "    img = plt.imshow(canvas, interpolation='none', cmap='gray')\n",
    "    return img"
   ]
  },
  {
   "cell_type": "markdown",
   "metadata": {},
   "source": [
    "The pirate agent can move in four directions: left, right, up, and down. \n",
    "\n",
    "While the agent primarily learns by experience through exploitation, often, the agent can choose to explore the environment to find previously undiscovered paths. This is called \"exploration\" and is defined by epsilon. This value is typically a lower value such as 0.1, which means for every ten attempts, the agent will attempt to learn by experience nine times and will randomly explore a new path one time. You are encouraged to try various values for the exploration factor and see how the algorithm performs."
   ]
  },
  {
   "cell_type": "code",
   "execution_count": 15,
   "metadata": {},
   "outputs": [],
   "source": [
    "LEFT = 0\n",
    "UP = 1\n",
    "RIGHT = 2\n",
    "DOWN = 3\n",
    "\n",
    "\n",
    "# Exploration factor\n",
    "epsilon = 0.1\n",
    "\n",
    "# Actions dictionary\n",
    "actions_dict = {\n",
    "    LEFT: 'left',\n",
    "    UP: 'up',\n",
    "    RIGHT: 'right',\n",
    "    DOWN: 'down',\n",
    "}\n",
    "\n",
    "num_actions = len(actions_dict)\n"
   ]
  },
  {
   "cell_type": "markdown",
   "metadata": {},
   "source": [
    "The sample code block and output below show creating a maze object and performing one action (DOWN), which returns the reward. The resulting updated environment is visualized."
   ]
  },
  {
   "cell_type": "code",
   "execution_count": 16,
   "metadata": {},
   "outputs": [
    {
     "name": "stdout",
     "output_type": "stream",
     "text": [
      "reward= -0.04\n"
     ]
    },
    {
     "data": {
      "text/plain": [
       "<matplotlib.image.AxesImage at 0x19edff18988>"
      ]
     },
     "execution_count": 16,
     "metadata": {},
     "output_type": "execute_result"
    },
    {
     "data": {
      "image/png": "[encoded data removed]",
      "text/plain": [
       "<Figure size 432x288 with 1 Axes>"
      ]
     },
     "metadata": {
      "needs_background": "light"
     },
     "output_type": "display_data"
    }
   ],
   "source": [
    "qmaze = TreasureMaze(maze)\n",
    "canvas, reward, game_over = qmaze.act(DOWN)\n",
    "print(\"reward=\", reward)\n",
    "show(qmaze)"
   ]
  },
  {
   "cell_type": "markdown",
   "metadata": {},
   "source": [
    "This function simulates a full game based on the provided trained model. The other parameters include the TreasureMaze object and the starting position of the pirate."
   ]
  },
  {
   "cell_type": "code",
   "execution_count": 17,
   "metadata": {},
   "outputs": [],
   "source": [
    "def play_game(model, qmaze, pirate_cell):\n",
    "    qmaze.reset(pirate_cell)\n",
    "    envstate = qmaze.observe()\n",
    "    while True:\n",
    "        prev_envstate = envstate\n",
    "        # get next action\n",
    "        q = model.predict(prev_envstate)\n",
    "        action = np.argmax(q[0])\n",
    "\n",
    "        # apply action, get rewards and new state\n",
    "        envstate, reward, game_status = qmaze.act(action)\n",
    "        if game_status == 'win':\n",
    "            return True\n",
    "        elif game_status == 'lose':\n",
    "            return False"
   ]
  },
  {
   "cell_type": "markdown",
   "metadata": {},
   "source": [
    "This function helps you to determine whether the pirate can win any game at all. If your maze is not well designed, the pirate may not win any game at all. In this case, your training would not yield any result. The provided maze in this notebook ensures that there is a path to win and you can run this method to check."
   ]
  },
  {
   "cell_type": "code",
   "execution_count": 18,
   "metadata": {},
   "outputs": [],
   "source": [
    "def completion_check(model, qmaze):\n",
    "    for cell in qmaze.free_cells:\n",
    "        if not qmaze.valid_actions(cell):\n",
    "            return False\n",
    "        if not play_game(model, qmaze, cell):\n",
    "            return False\n",
    "    return True"
   ]
  },
  {
   "cell_type": "markdown",
   "metadata": {},
   "source": [
    "The code you have been given in this block will build the neural network model. Review the code and note the number of layers, as well as the activation, optimizer, and loss functions that are used to train the model."
   ]
  },
  {
   "cell_type": "code",
   "execution_count": 19,
   "metadata": {},
   "outputs": [],
   "source": [
    "def build_model(maze):\n",
    "    model = Sequential()\n",
    "    model.add(Dense(maze.size, input_shape=(maze.size,)))\n",
    "    model.add(PReLU())\n",
    "    model.add(Dense(maze.size))\n",
    "    model.add(PReLU())\n",
    "    model.add(Dense(num_actions))\n",
    "    model.compile(optimizer='adam', loss='mse')\n",
    "    return model"
   ]
  },
  {
   "cell_type": "markdown",
   "metadata": {},
   "source": [
    "# #TODO: Complete the Q-Training Algorithm Code Block\n",
    "\n",
    "This is your deep Q-learning implementation. The goal of your deep Q-learning implementation is to find the best possible navigation sequence that results in reaching the treasure cell while maximizing the reward. In your implementation, you need to determine the optimal number of epochs to achieve a 100% win rate.\n",
    "\n",
    "You will need to complete the section starting with #pseudocode. The pseudocode has been included for you."
   ]
  },
  {
   "cell_type": "code",
   "execution_count": 20,
   "metadata": {},
   "outputs": [],
   "source": [
    "def qtrain(model, maze, **opt):\n",
    "    \"\"\"\n",
    "    Train the intelligent agent (pirate) to find the optimal path to the treasure\n",
    "    using Deep Q-Learning.\n",
    "\n",
    "    Parameters:\n",
    "        model (Sequential): Neural network model for Q-learning.\n",
    "        maze (numpy.ndarray): Maze environment represented as a matrix.\n",
    "        opt (dict): Optional parameters for training.\n",
    "            - n_epoch (int): Number of epochs to train. Default: 15000.\n",
    "            - max_memory (int): Maximum memory size for experience replay. Default: 512.\n",
    "            - data_size (int): Batch size for training. Default: 32.\n",
    "    \n",
    "    Returns:\n",
    "        float: Total time taken for training in seconds.\n",
    "    \"\"\"\n",
    "    print(\"Training started. Preparing the environment and initializing parameters...\")\n",
    "    \n",
    "    global epsilon\n",
    "\n",
    "    # Parameters\n",
    "    n_epoch = opt.get('n_epoch', 15000)\n",
    "    max_memory = opt.get('max_memory', 512)\n",
    "    data_size = opt.get('data_size', 32)\n",
    "    initial_epsilon = 1.0  # Start with full exploration\n",
    "    min_epsilon = 0.1      # Minimum exploration\n",
    "    epsilon_decay = 0.995  # Decay factor for epsilon\n",
    "\n",
    "    # Initialize\n",
    "    start_time = datetime.datetime.now()\n",
    "    qmaze = TreasureMaze(maze)\n",
    "    experience = GameExperience(model, max_memory=max_memory)\n",
    "    win_history = []\n",
    "    hsize = qmaze.maze.size // 2\n",
    "    win_rate = 0.0\n",
    "\n",
    "    for epoch in range(n_epoch):\n",
    "        agent_cell = random.choice(qmaze.free_cells)\n",
    "        qmaze.reset(agent_cell)\n",
    "        envstate = qmaze.observe()\n",
    "        \n",
    "        n_episodes = 0\n",
    "        loss = 0.0\n",
    "        game_over = False\n",
    "        \n",
    "        while not game_over:\n",
    "            prev_envstate = envstate\n",
    "            \n",
    "            # Exploration vs Exploitation\n",
    "            if np.random.rand() < epsilon:\n",
    "                action = random.randint(0, num_actions - 1)\n",
    "            else:\n",
    "                q_values = model.predict(prev_envstate, verbose=0)\n",
    "                action = np.argmax(q_values[0])\n",
    "            \n",
    "            # Act in the environment\n",
    "            envstate, reward, game_status = qmaze.act(action)\n",
    "            game_over = game_status in ('win', 'lose')\n",
    "            \n",
    "            # Store episode in memory\n",
    "            episode = [prev_envstate, action, reward, envstate, game_status]\n",
    "            experience.remember(episode)\n",
    "            n_episodes += 1\n",
    "            \n",
    "            # Train every 10 steps\n",
    "            if n_episodes % 10 == 0 and len(experience.memory) > data_size:\n",
    "                inputs, targets = experience.get_data(data_size=data_size)\n",
    "                loss += model.train_on_batch(inputs, targets)\n",
    "        \n",
    "        # Update win history\n",
    "        win_history.append(1 if game_status == 'win' else 0)\n",
    "        win_rate = sum(win_history[-hsize:]) / hsize\n",
    "\n",
    "        # Adjust epsilon\n",
    "        epsilon = max(min_epsilon, epsilon * epsilon_decay)\n",
    "\n",
    "        # Early stop if 100% win rate is reached\n",
    "        if win_rate >= 1.0:\n",
    "            print(f\"Reached 100% win rate at epoch: {epoch+1}\")\n",
    "            break\n",
    "\n",
    "        # Log every 50 epochs\n",
    "        if (epoch + 1) % 50 == 0 or epoch == n_epoch - 1:\n",
    "            dt = datetime.datetime.now() - start_time\n",
    "            t = format_time(dt.total_seconds())\n",
    "            print(f\"Epoch: {epoch+1:05d}/{n_epoch} | Loss: {loss:.4f} | Wins: {sum(win_history)} | \"\n",
    "                  f\"Win rate: {win_rate:.3f} | Epsilon: {epsilon:.3f} | Time: {t}\")\n",
    "        \n",
    "        # Check for stagnation\n",
    "        if win_rate == 0 and (epoch + 1) % 100 == 0:\n",
    "            print(f\"Warning: No progress in win rate at epoch {epoch+1}\")\n",
    "\n",
    "    dt = datetime.datetime.now() - start_time\n",
    "    print(f\"Training completed: n_epoch={epoch+1}, max_mem={max_memory}, data={data_size}, time={format_time(dt.total_seconds())}\")\n",
    "    return dt.total_seconds()\n",
    "\n",
    "\n",
    "def format_time(seconds):\n",
    "    \"\"\"\n",
    "    Utility function to format time into human-readable strings.\n",
    "    \n",
    "    Parameters:\n",
    "        seconds (float): Time in seconds.\n",
    "    \n",
    "    Returns:\n",
    "        str: Formatted time string.\n",
    "    \"\"\"\n",
    "    if seconds < 400:\n",
    "        return \"%.1f seconds\" % seconds\n",
    "    elif seconds < 4000:\n",
    "        return \"%.2f minutes\" % (seconds / 60)\n",
    "    else:\n",
    "        return \"%.2f hours\" % (seconds / 3600)\n"
   ]
  },
  {
   "cell_type": "markdown",
   "metadata": {},
   "source": [
    "## Test Your Model\n",
    "\n",
    "Now we will start testing the deep Q-learning implementation. To begin, select **Cell**, then **Run All** from the menu bar. This will run your notebook. As it runs, you should see output begin to appear beneath the next few cells. The code below creates an instance of TreasureMaze."
   ]
  },
  {
   "cell_type": "code",
   "execution_count": 21,
   "metadata": {
    "scrolled": true
   },
   "outputs": [
    {
     "data": {
      "text/plain": [
       "<matplotlib.image.AxesImage at 0x19edff826c8>"
      ]
     },
     "execution_count": 21,
     "metadata": {},
     "output_type": "execute_result"
    },
    {
     "data": {
      "image/png": "[encoded data removed]",
      "text/plain": [
       "<Figure size 432x288 with 1 Axes>"
      ]
     },
     "metadata": {
      "needs_background": "light"
     },
     "output_type": "display_data"
    }
   ],
   "source": [
    "qmaze = TreasureMaze(maze)\n",
    "show(qmaze)"
   ]
  },
  {
   "cell_type": "markdown",
   "metadata": {},
   "source": [
    "In the next code block, you will build your model and train it using deep Q-learning. Note: This step takes several minutes to fully run."
   ]
  },
  {
   "cell_type": "code",
   "execution_count": null,
   "metadata": {
    "scrolled": false
   },
   "outputs": [
    {
     "name": "stdout",
     "output_type": "stream",
     "text": [
      "Training started. Preparing the environment and initializing parameters...\n",
      "Epoch: 00050/15000 | Loss: 0.0410 | Wins: 15 | Win rate: 0.219 | Epsilon: 0.100 | Time: 45.0 seconds\n",
      "Epoch: 00100/15000 | Loss: 0.0067 | Wins: 27 | Win rate: 0.219 | Epsilon: 0.100 | Time: 110.0 seconds\n",
      "Epoch: 00150/15000 | Loss: 0.0091 | Wins: 38 | Win rate: 0.281 | Epsilon: 0.100 | Time: 166.0 seconds\n",
      "Epoch: 00200/15000 | Loss: 0.0118 | Wins: 54 | Win rate: 0.281 | Epsilon: 0.100 | Time: 210.6 seconds\n",
      "Epoch: 00250/15000 | Loss: 0.0184 | Wins: 67 | Win rate: 0.188 | Epsilon: 0.100 | Time: 254.8 seconds\n",
      "Epoch: 00300/15000 | Loss: 0.0158 | Wins: 81 | Win rate: 0.281 | Epsilon: 0.100 | Time: 296.1 seconds\n",
      "Epoch: 00350/15000 | Loss: 0.0000 | Wins: 92 | Win rate: 0.281 | Epsilon: 0.100 | Time: 340.3 seconds\n",
      "Epoch: 00400/15000 | Loss: 0.0203 | Wins: 112 | Win rate: 0.375 | Epsilon: 0.100 | Time: 378.4 seconds\n",
      "Epoch: 00450/15000 | Loss: 0.0073 | Wins: 132 | Win rate: 0.438 | Epsilon: 0.100 | Time: 7.03 minutes\n",
      "Epoch: 00500/15000 | Loss: 0.0045 | Wins: 157 | Win rate: 0.375 | Epsilon: 0.100 | Time: 7.60 minutes\n",
      "Epoch: 00550/15000 | Loss: 0.0000 | Wins: 170 | Win rate: 0.250 | Epsilon: 0.100 | Time: 8.33 minutes\n",
      "Epoch: 00600/15000 | Loss: 0.0103 | Wins: 190 | Win rate: 0.312 | Epsilon: 0.100 | Time: 8.98 minutes\n",
      "Epoch: 00650/15000 | Loss: 0.0080 | Wins: 209 | Win rate: 0.281 | Epsilon: 0.100 | Time: 9.65 minutes\n",
      "Epoch: 00700/15000 | Loss: 0.0015 | Wins: 229 | Win rate: 0.406 | Epsilon: 0.100 | Time: 10.29 minutes\n",
      "Epoch: 00750/15000 | Loss: 0.0145 | Wins: 251 | Win rate: 0.500 | Epsilon: 0.100 | Time: 10.91 minutes\n",
      "Epoch: 00800/15000 | Loss: 0.0206 | Wins: 264 | Win rate: 0.312 | Epsilon: 0.100 | Time: 11.68 minutes\n",
      "Epoch: 00850/15000 | Loss: 0.0138 | Wins: 280 | Win rate: 0.312 | Epsilon: 0.100 | Time: 12.41 minutes\n",
      "Epoch: 00900/15000 | Loss: 0.0013 | Wins: 296 | Win rate: 0.281 | Epsilon: 0.100 | Time: 13.10 minutes\n",
      "Epoch: 00950/15000 | Loss: 0.0035 | Wins: 321 | Win rate: 0.406 | Epsilon: 0.100 | Time: 13.62 minutes\n",
      "Epoch: 01000/15000 | Loss: 0.0007 | Wins: 337 | Win rate: 0.250 | Epsilon: 0.100 | Time: 14.32 minutes\n",
      "Epoch: 01050/15000 | Loss: 0.0023 | Wins: 360 | Win rate: 0.312 | Epsilon: 0.100 | Time: 14.91 minutes\n",
      "Epoch: 01100/15000 | Loss: 0.0112 | Wins: 382 | Win rate: 0.469 | Epsilon: 0.100 | Time: 15.51 minutes\n",
      "Epoch: 01150/15000 | Loss: 0.0094 | Wins: 406 | Win rate: 0.438 | Epsilon: 0.100 | Time: 16.09 minutes\n",
      "Epoch: 01200/15000 | Loss: 0.0082 | Wins: 428 | Win rate: 0.375 | Epsilon: 0.100 | Time: 16.69 minutes\n",
      "Epoch: 01250/15000 | Loss: 0.0072 | Wins: 448 | Win rate: 0.438 | Epsilon: 0.100 | Time: 17.37 minutes\n",
      "Epoch: 01300/15000 | Loss: 0.0000 | Wins: 469 | Win rate: 0.438 | Epsilon: 0.100 | Time: 17.96 minutes\n",
      "Epoch: 01350/15000 | Loss: 0.0114 | Wins: 489 | Win rate: 0.438 | Epsilon: 0.100 | Time: 18.60 minutes\n",
      "Epoch: 01400/15000 | Loss: 0.0108 | Wins: 509 | Win rate: 0.531 | Epsilon: 0.100 | Time: 19.20 minutes\n",
      "Epoch: 01450/15000 | Loss: 0.0119 | Wins: 533 | Win rate: 0.500 | Epsilon: 0.100 | Time: 19.75 minutes\n",
      "Epoch: 01500/15000 | Loss: 0.0000 | Wins: 560 | Win rate: 0.562 | Epsilon: 0.100 | Time: 20.25 minutes\n",
      "Epoch: 01550/15000 | Loss: 0.0009 | Wins: 584 | Win rate: 0.438 | Epsilon: 0.100 | Time: 20.79 minutes\n",
      "Epoch: 01600/15000 | Loss: 0.0000 | Wins: 609 | Win rate: 0.594 | Epsilon: 0.100 | Time: 21.32 minutes\n",
      "Epoch: 01650/15000 | Loss: 0.0141 | Wins: 635 | Win rate: 0.500 | Epsilon: 0.100 | Time: 21.83 minutes\n",
      "Epoch: 01700/15000 | Loss: 0.0142 | Wins: 661 | Win rate: 0.531 | Epsilon: 0.100 | Time: 22.34 minutes\n",
      "Epoch: 01750/15000 | Loss: 0.0133 | Wins: 681 | Win rate: 0.375 | Epsilon: 0.100 | Time: 22.95 minutes\n",
      "Epoch: 01800/15000 | Loss: 0.0107 | Wins: 705 | Win rate: 0.375 | Epsilon: 0.100 | Time: 23.46 minutes\n",
      "Epoch: 01850/15000 | Loss: 0.0127 | Wins: 722 | Win rate: 0.344 | Epsilon: 0.100 | Time: 24.10 minutes\n",
      "Epoch: 01900/15000 | Loss: 0.0133 | Wins: 742 | Win rate: 0.469 | Epsilon: 0.100 | Time: 24.70 minutes\n",
      "Epoch: 01950/15000 | Loss: 0.0000 | Wins: 765 | Win rate: 0.531 | Epsilon: 0.100 | Time: 25.23 minutes\n",
      "Epoch: 02000/15000 | Loss: 0.0146 | Wins: 789 | Win rate: 0.531 | Epsilon: 0.100 | Time: 25.77 minutes\n",
      "Epoch: 02050/15000 | Loss: 0.0000 | Wins: 811 | Win rate: 0.344 | Epsilon: 0.100 | Time: 26.37 minutes\n",
      "Epoch: 02100/15000 | Loss: 0.0175 | Wins: 837 | Win rate: 0.594 | Epsilon: 0.100 | Time: 26.89 minutes\n",
      "Epoch: 02150/15000 | Loss: 0.0000 | Wins: 858 | Win rate: 0.406 | Epsilon: 0.100 | Time: 27.49 minutes\n",
      "Epoch: 02200/15000 | Loss: 0.0092 | Wins: 876 | Win rate: 0.406 | Epsilon: 0.100 | Time: 28.11 minutes\n",
      "Epoch: 02250/15000 | Loss: 0.0065 | Wins: 898 | Win rate: 0.344 | Epsilon: 0.100 | Time: 28.71 minutes\n",
      "Epoch: 02300/15000 | Loss: 0.0086 | Wins: 924 | Win rate: 0.500 | Epsilon: 0.100 | Time: 29.20 minutes\n",
      "Epoch: 02350/15000 | Loss: 0.0053 | Wins: 946 | Win rate: 0.406 | Epsilon: 0.100 | Time: 29.76 minutes\n",
      "Epoch: 02400/15000 | Loss: 0.0004 | Wins: 970 | Win rate: 0.469 | Epsilon: 0.100 | Time: 30.30 minutes\n",
      "Epoch: 02450/15000 | Loss: 0.0063 | Wins: 990 | Win rate: 0.406 | Epsilon: 0.100 | Time: 30.86 minutes\n",
      "Epoch: 02500/15000 | Loss: 0.0093 | Wins: 1008 | Win rate: 0.281 | Epsilon: 0.100 | Time: 31.52 minutes\n",
      "Epoch: 02550/15000 | Loss: 0.0000 | Wins: 1030 | Win rate: 0.500 | Epsilon: 0.100 | Time: 32.11 minutes\n",
      "Epoch: 02600/15000 | Loss: 0.0008 | Wins: 1059 | Win rate: 0.562 | Epsilon: 0.100 | Time: 32.57 minutes\n",
      "Epoch: 02650/15000 | Loss: 0.0094 | Wins: 1086 | Win rate: 0.531 | Epsilon: 0.100 | Time: 33.03 minutes\n",
      "Epoch: 02700/15000 | Loss: 0.0000 | Wins: 1107 | Win rate: 0.344 | Epsilon: 0.100 | Time: 33.64 minutes\n",
      "Epoch: 02750/15000 | Loss: 0.0084 | Wins: 1131 | Win rate: 0.531 | Epsilon: 0.100 | Time: 34.19 minutes\n",
      "Epoch: 02800/15000 | Loss: 0.0087 | Wins: 1160 | Win rate: 0.594 | Epsilon: 0.100 | Time: 34.62 minutes\n",
      "Epoch: 02850/15000 | Loss: 0.0077 | Wins: 1180 | Win rate: 0.531 | Epsilon: 0.100 | Time: 35.25 minutes\n",
      "Epoch: 02900/15000 | Loss: 0.0000 | Wins: 1203 | Win rate: 0.500 | Epsilon: 0.100 | Time: 35.78 minutes\n",
      "Epoch: 02950/15000 | Loss: 0.0083 | Wins: 1222 | Win rate: 0.375 | Epsilon: 0.100 | Time: 36.41 minutes\n"
     ]
    }
   ],
   "source": [
    "model = build_model(maze)\n",
    "qtrain(model, maze, epochs=1000, max_memory=8*maze.size, data_size=32)"
   ]
  },
  {
   "cell_type": "markdown",
   "metadata": {},
   "source": [
    "This cell will check to see if the model passes the completion check. Note: This could take several minutes."
   ]
  },
  {
   "cell_type": "code",
   "execution_count": null,
   "metadata": {},
   "outputs": [],
   "source": [
    "completion_check(model, qmaze)\n",
    "show(qmaze)"
   ]
  },
  {
   "cell_type": "markdown",
   "metadata": {},
   "source": [
    "This cell will test your model for one game. It will start the pirate at the top-left corner and run play_game. The agent should find a path from the starting position to the target (treasure). The treasure is located in the bottom-right corner."
   ]
  },
  {
   "cell_type": "code",
   "execution_count": null,
   "metadata": {},
   "outputs": [],
   "source": [
    "pirate_start = (0, 0)\n",
    "play_game(model, qmaze, pirate_start)\n",
    "show(qmaze)"
   ]
  },
  {
   "cell_type": "markdown",
   "metadata": {},
   "source": [
    "## Save and Submit Your Work\n",
    "After you have finished creating the code for your notebook, save your work. Make sure that your notebook contains your name in the filename (e.g. Doe_Jane_ProjectTwo.ipynb). This will help your instructor access and grade your work easily. Download a copy of your IPYNB file and submit it to Brightspace. Refer to the Jupyter Notebook in Apporto Tutorial if you need help with these tasks."
   ]
  }
 ],
 "metadata": {
  "kernelspec": {
   "display_name": "Python 3",
   "language": "python",
   "name": "python3"
  },
  "language_info": {
   "codemirror_mode": {
    "name": "ipython",
    "version": 3
   },
   "file_extension": ".py",
   "mimetype": "text/x-python",
   "name": "python",
   "nbconvert_exporter": "python",
   "pygments_lexer": "ipython3",
   "version": "3.7.4"
  }
 },
 "nbformat": 4,
 "nbformat_minor": 2
}
